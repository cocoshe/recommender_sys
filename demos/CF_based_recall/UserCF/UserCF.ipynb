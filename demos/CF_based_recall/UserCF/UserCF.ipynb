{
 "cells": [
  {
   "cell_type": "code",
   "execution_count": 1,
   "outputs": [],
   "source": [
    "import pandas as pd\n",
    "import numpy as np"
   ],
   "metadata": {
    "collapsed": false,
    "pycharm": {
     "name": "#%%import pandas as pd\n"
    }
   }
  },
  {
   "cell_type": "code",
   "execution_count": 2,
   "outputs": [
    {
     "data": {
      "text/plain": "    name  item1  item2  item3  item4  item5\n0  Alice      5      3      4      4     -1\n1  user1      3      1      2      3      3\n2  user2      4      3      4      3      5\n3  user3      3      3      1      5      4\n4  user4      1      5      5      2      1",
      "text/html": "<div>\n<style scoped>\n    .dataframe tbody tr th:only-of-type {\n        vertical-align: middle;\n    }\n\n    .dataframe tbody tr th {\n        vertical-align: top;\n    }\n\n    .dataframe thead th {\n        text-align: right;\n    }\n</style>\n<table border=\"1\" class=\"dataframe\">\n  <thead>\n    <tr style=\"text-align: right;\">\n      <th></th>\n      <th>name</th>\n      <th>item1</th>\n      <th>item2</th>\n      <th>item3</th>\n      <th>item4</th>\n      <th>item5</th>\n    </tr>\n  </thead>\n  <tbody>\n    <tr>\n      <th>0</th>\n      <td>Alice</td>\n      <td>5</td>\n      <td>3</td>\n      <td>4</td>\n      <td>4</td>\n      <td>-1</td>\n    </tr>\n    <tr>\n      <th>1</th>\n      <td>user1</td>\n      <td>3</td>\n      <td>1</td>\n      <td>2</td>\n      <td>3</td>\n      <td>3</td>\n    </tr>\n    <tr>\n      <th>2</th>\n      <td>user2</td>\n      <td>4</td>\n      <td>3</td>\n      <td>4</td>\n      <td>3</td>\n      <td>5</td>\n    </tr>\n    <tr>\n      <th>3</th>\n      <td>user3</td>\n      <td>3</td>\n      <td>3</td>\n      <td>1</td>\n      <td>5</td>\n      <td>4</td>\n    </tr>\n    <tr>\n      <th>4</th>\n      <td>user4</td>\n      <td>1</td>\n      <td>5</td>\n      <td>5</td>\n      <td>2</td>\n      <td>1</td>\n    </tr>\n  </tbody>\n</table>\n</div>"
     },
     "execution_count": 2,
     "metadata": {},
     "output_type": "execute_result"
    }
   ],
   "source": [
    "df = pd.read_csv(\"demo_data.csv\", header=0, index_col=None)\n",
    "df"
   ],
   "metadata": {
    "collapsed": false,
    "pycharm": {
     "name": "#%%\n"
    }
   }
  },
  {
   "cell_type": "markdown",
   "source": [
    "## Alice对item5的评价未知(这里先用-1代替), 接下来用UserCF进行分析\n",
    "1. 根据item1、2、3、4,找到和Alice最相似的n个User\n",
    "2. 根据这 n 个用户对物品 5 的评分情况和与 Alice 的相似程度会猜测出 Alice 对物品5的评分"
   ],
   "metadata": {
    "collapsed": false,
    "pycharm": {
     "name": "#%% md\n"
    }
   }
  },
  {
   "cell_type": "markdown",
   "source": [
    "### Step1: 相似度计算\n",
    "+ method1: 余弦相似度\n",
    "+ method2: 皮尔逊相关系数"
   ],
   "metadata": {
    "collapsed": false,
    "pycharm": {
     "name": "#%% md\n"
    }
   }
  },
  {
   "cell_type": "markdown",
   "source": [
    "#### method1: 余弦相似度"
   ],
   "metadata": {
    "collapsed": false,
    "pycharm": {
     "name": "#%% md\n"
    }
   }
  },
  {
   "cell_type": "code",
   "execution_count": 3,
   "outputs": [
    {
     "data": {
      "text/plain": "array([9, 1, 4, 9], dtype=object)"
     },
     "execution_count": 3,
     "metadata": {},
     "output_type": "execute_result"
    }
   ],
   "source": [
    "df.iloc[1, 1:-1].values * df.iloc[1, 1:-1].values"
   ],
   "metadata": {
    "collapsed": false,
    "pycharm": {
     "name": "#%%\n"
    }
   }
  },
  {
   "cell_type": "code",
   "execution_count": 4,
   "outputs": [
    {
     "data": {
      "text/plain": "[0.9753213044447562,\n 0.9922426389474776,\n 0.8907235428302466,\n 0.7966873563711506]"
     },
     "execution_count": 4,
     "metadata": {},
     "output_type": "execute_result"
    }
   ],
   "source": [
    "sim_list = []  # 保存Alice与其他user的相似度\n",
    "sim_score = .0\n",
    "user_num = len(df) - 1  # 减去Alice自身\n",
    "alice_vec = df.iloc[0, 1:-1].values\n",
    "sqrt_sum_alice_vec_2 = np.sqrt(np.sum(alice_vec * alice_vec))\n",
    "for i in range(user_num):\n",
    "    user_vec = df.iloc[i+1, 1:-1].values\n",
    "    sim_score = np.sum(user_vec * alice_vec) / (np.sqrt(np.sum(user_vec * user_vec)) * sqrt_sum_alice_vec_2)\n",
    "    sim_list.append(sim_score)\n",
    "sim_list"
   ],
   "metadata": {
    "collapsed": false,
    "pycharm": {
     "name": "#%%\n"
    }
   }
  },
  {
   "cell_type": "markdown",
   "source": [
    "#### method2: 皮尔逊相关系数(本质上是一个\"中心化\"了的余弦相似度)\n"
   ],
   "metadata": {
    "collapsed": false,
    "pycharm": {
     "name": "#%% md\n"
    }
   }
  },
  {
   "cell_type": "code",
   "execution_count": 5,
   "outputs": [],
   "source": [
    "Alice_average = df.iloc[0, 1:-1].mean()  # Alice的平均评分\n",
    "Alice_sub_vec = df.iloc[0, 1:-1].sub(Alice_average).values\n",
    "Alice_sqrt_sum_sub_vec_2 = np.sqrt(np.sum(Alice_sub_vec * Alice_sub_vec))\n"
   ],
   "metadata": {
    "collapsed": false,
    "pycharm": {
     "name": "#%%\n"
    }
   }
  },
  {
   "cell_type": "code",
   "execution_count": 6,
   "outputs": [
    {
     "data": {
      "text/plain": "[0.8528028654224417, 0.7071067811865475, 0.0, -0.7921180343813393]"
     },
     "execution_count": 6,
     "metadata": {},
     "output_type": "execute_result"
    }
   ],
   "source": [
    "pearson_sim_list = []\n",
    "for i in range(user_num):\n",
    "    user_average = df.iloc[i+1, 1:-1].mean()  # user的平均评分\n",
    "    user_sub_vec = df.iloc[i+1, 1:-1].sub(user_average).values  # 减去user的平均评分\n",
    "    pearson_score = np.sum(Alice_sub_vec * user_sub_vec) / (Alice_sqrt_sum_sub_vec_2 * np.sqrt(np.sum(user_sub_vec * user_sub_vec)))\n",
    "    pearson_sim_list.append(pearson_score)\n",
    "pearson_sim_list"
   ],
   "metadata": {
    "collapsed": false,
    "pycharm": {
     "name": "#%%for i in range(user_num):\n"
    }
   }
  },
  {
   "cell_type": "markdown",
   "source": [
    "> 上面是手算, 或者使用scipy.stats.pearsonr() api, 有相同的结果"
   ],
   "metadata": {
    "collapsed": false,
    "pycharm": {
     "name": "#%% md\n"
    }
   }
  },
  {
   "cell_type": "code",
   "execution_count": 7,
   "outputs": [
    {
     "data": {
      "text/plain": "[0.8528028654224415, 0.7071067811865475, 0.0, -0.7921180343813393]"
     },
     "execution_count": 7,
     "metadata": {},
     "output_type": "execute_result"
    }
   ],
   "source": [
    "from scipy.stats import pearsonr\n",
    "pearson_sim_list = []\n",
    "for i in range(user_num):\n",
    "    user_vec = df.iloc[i+1, 1:-1].values\n",
    "    pearson_score = pearsonr(user_vec, alice_vec)  # 可以不用减去平均值, 直接算\n",
    "    pearson_sim_list.append(pearson_score[0])\n",
    "pearson_sim_list"
   ],
   "metadata": {
    "collapsed": false,
    "pycharm": {
     "name": "#%%\n"
    }
   }
  },
  {
   "cell_type": "markdown",
   "source": [
    "> 利用sklearn计算所有用户之间的余弦相似度和皮尔逊相关系数"
   ],
   "metadata": {
    "collapsed": false,
    "pycharm": {
     "name": "#%% md\n"
    }
   }
  },
  {
   "cell_type": "code",
   "execution_count": 8,
   "outputs": [
    {
     "data": {
      "text/plain": "array([[1.        , 0.9753213 , 0.99224264, 0.89072354, 0.79668736],\n       [0.9753213 , 1.        , 0.94362852, 0.91160719, 0.67478587],\n       [0.99224264, 0.94362852, 1.        , 0.85280287, 0.85811633],\n       [0.89072354, 0.91160719, 0.85280287, 1.        , 0.67082039],\n       [0.79668736, 0.67478587, 0.85811633, 0.67082039, 1.        ]])"
     },
     "execution_count": 8,
     "metadata": {},
     "output_type": "execute_result"
    }
   ],
   "source": [
    "from sklearn.metrics.pairwise import cosine_similarity\n",
    "users = df.iloc[:, 1:-1].values\n",
    "cosine_sim = cosine_similarity(users)\n",
    "cosine_sim"
   ],
   "metadata": {
    "collapsed": false,
    "pycharm": {
     "name": "#%%\n"
    }
   }
  },
  {
   "cell_type": "code",
   "execution_count": 9,
   "outputs": [
    {
     "data": {
      "text/plain": "array([[ 1.        ,  0.85280287,  0.70710678,  0.        , -0.79211803],\n       [ 0.85280287,  1.        ,  0.30151134,  0.42640143, -0.88662069],\n       [ 0.70710678,  0.30151134,  1.        , -0.70710678, -0.14002801],\n       [ 0.        ,  0.42640143, -0.70710678,  1.        , -0.59408853],\n       [-0.79211803, -0.88662069, -0.14002801, -0.59408853,  1.        ]])"
     },
     "execution_count": 9,
     "metadata": {},
     "output_type": "execute_result"
    }
   ],
   "source": [
    "pearson = np.corrcoef(users)\n",
    "pearson"
   ],
   "metadata": {
    "collapsed": false,
    "pycharm": {
     "name": "#%%\n"
    }
   }
  },
  {
   "cell_type": "markdown",
   "source": [
    "**根据皮尔逊系数，可以发现，与Alice相似度最高的分别是user1和user2,故对他们进行分析,推理出Alice对item5的打分情况**"
   ],
   "metadata": {
    "collapsed": false,
    "pycharm": {
     "name": "#%% md\n"
    }
   }
  },
  {
   "cell_type": "code",
   "execution_count": 10,
   "outputs": [
    {
     "name": "stdout",
     "output_type": "stream",
     "text": [
      "3.0 2.4\n",
      "5.0 3.8\n",
      "np.sum(weight_list) 1.559909646608989\n"
     ]
    },
    {
     "data": {
      "text/plain": "4.871979899370592"
     },
     "execution_count": 10,
     "metadata": {},
     "output_type": "execute_result"
    }
   ],
   "source": [
    "for i in range(5):\n",
    "    df.iloc[:, i+1] = df.iloc[:, i+1].astype(\"float\")\n",
    "Alice_item124_score = df.iloc[0, 1:-1].values * 1.0\n",
    "user1_item5_score_centered = df.iloc[1, -1] - np.average(df.iloc[1, 1:].values)  # 利用其他用户对所有item的平均评分，并且中心化(所有物品包括item5)\n",
    "user2_item5_score_centered = df.iloc[2, -1] - np.average(df.iloc[2, 1:].values)\n",
    "print(df.iloc[1, -1], np.average(df.iloc[1, 1:].values))\n",
    "print(df.iloc[2, -1], np.average(df.iloc[2, 1:].values))\n",
    "\n",
    "# print(\"user1_item5_score_centered:\", user1_item5_score_centered)\n",
    "# print(\"user2_item5_score_centered:\", user2_item5_score_centered)\n",
    "weight_list = pearson_sim_list[0:2]\n",
    "print(\"np.sum(weight_list)\", np.sum(weight_list))\n",
    "# Alice对item1~item4的打分情况取平均，加上后面的(加权平均值/加权和)得到Alice对item5的打分情况\n",
    "Alice_item5_score = np.average(Alice_item124_score) + \\\n",
    "                    ((np.dot(weight_list, [user1_item5_score_centered, user2_item5_score_centered])) / np.sum(weight_list))\n",
    "Alice_item5_score"
   ],
   "metadata": {
    "collapsed": false,
    "pycharm": {
     "name": "#%%\n"
    }
   }
  },
  {
   "cell_type": "code",
   "execution_count": 10,
   "outputs": [],
   "source": [],
   "metadata": {
    "collapsed": false,
    "pycharm": {
     "name": "#%%\n"
    }
   }
  }
 ],
 "metadata": {
  "kernelspec": {
   "display_name": "Python 3",
   "language": "python",
   "name": "python3"
  },
  "language_info": {
   "codemirror_mode": {
    "name": "ipython",
    "version": 2
   },
   "file_extension": ".py",
   "mimetype": "text/x-python",
   "name": "python",
   "nbconvert_exporter": "python",
   "pygments_lexer": "ipython2",
   "version": "2.7.6"
  }
 },
 "nbformat": 4,
 "nbformat_minor": 0
}