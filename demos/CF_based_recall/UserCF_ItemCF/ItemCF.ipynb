{
 "cells": [
  {
   "cell_type": "markdown",
   "source": [
    "# ItemCF\n",
    "+ 类似于UserCF, 在UserCF中, 我们考虑Alice和其他用户之间的相似度, 然后根据Alice的历史评分, 结合其他用户对item5的评分, 预测Alice对item5的评分.\n",
    "+ 而在ItemCF中, 我们考虑item5和其他item之间的相关性, 然后找相关性高的item, 结合所有user对item5的平均评分, 综合加权预测item5的评分.\n",
    "> 下面就直接调用库计算相关性了."
   ],
   "metadata": {
    "collapsed": false,
    "pycharm": {
     "name": "#%% md\n"
    }
   }
  },
  {
   "cell_type": "markdown",
   "source": [],
   "metadata": {
    "collapsed": false,
    "pycharm": {
     "name": "#%% md\n"
    }
   }
  },
  {
   "cell_type": "code",
   "execution_count": 1,
   "outputs": [
    {
     "data": {
      "text/plain": "    name  item1  item2  item3  item4  item5\n0  Alice      5      3      4      4     -1\n1  user1      3      1      2      3      3\n2  user2      4      3      4      3      5\n3  user3      3      3      1      5      4\n4  user4      1      5      5      2      1",
      "text/html": "<div>\n<style scoped>\n    .dataframe tbody tr th:only-of-type {\n        vertical-align: middle;\n    }\n\n    .dataframe tbody tr th {\n        vertical-align: top;\n    }\n\n    .dataframe thead th {\n        text-align: right;\n    }\n</style>\n<table border=\"1\" class=\"dataframe\">\n  <thead>\n    <tr style=\"text-align: right;\">\n      <th></th>\n      <th>name</th>\n      <th>item1</th>\n      <th>item2</th>\n      <th>item3</th>\n      <th>item4</th>\n      <th>item5</th>\n    </tr>\n  </thead>\n  <tbody>\n    <tr>\n      <th>0</th>\n      <td>Alice</td>\n      <td>5</td>\n      <td>3</td>\n      <td>4</td>\n      <td>4</td>\n      <td>-1</td>\n    </tr>\n    <tr>\n      <th>1</th>\n      <td>user1</td>\n      <td>3</td>\n      <td>1</td>\n      <td>2</td>\n      <td>3</td>\n      <td>3</td>\n    </tr>\n    <tr>\n      <th>2</th>\n      <td>user2</td>\n      <td>4</td>\n      <td>3</td>\n      <td>4</td>\n      <td>3</td>\n      <td>5</td>\n    </tr>\n    <tr>\n      <th>3</th>\n      <td>user3</td>\n      <td>3</td>\n      <td>3</td>\n      <td>1</td>\n      <td>5</td>\n      <td>4</td>\n    </tr>\n    <tr>\n      <th>4</th>\n      <td>user4</td>\n      <td>1</td>\n      <td>5</td>\n      <td>5</td>\n      <td>2</td>\n      <td>1</td>\n    </tr>\n  </tbody>\n</table>\n</div>"
     },
     "execution_count": 1,
     "metadata": {},
     "output_type": "execute_result"
    }
   ],
   "source": [
    "import pandas as pd\n",
    "import numpy as np\n",
    "df = pd.read_csv(\"demo_data.csv\", header=0, index_col=None)\n",
    "df"
   ],
   "metadata": {
    "collapsed": false,
    "pycharm": {
     "name": "#%%\n"
    }
   }
  },
  {
   "cell_type": "code",
   "execution_count": 2,
   "outputs": [
    {
     "data": {
      "text/plain": "          item1     item2     item3     item4     item5\nitem1  1.000000  0.738988  0.747667  0.936916  0.994100\nitem2  0.738988  1.000000  0.933564  0.813629  0.738851\nitem3  0.747667  0.933564  1.000000  0.709718  0.722610\nitem4  0.936916  0.813629  0.709718  1.000000  0.939558\nitem5  0.994100  0.738851  0.722610  0.939558  1.000000",
      "text/html": "<div>\n<style scoped>\n    .dataframe tbody tr th:only-of-type {\n        vertical-align: middle;\n    }\n\n    .dataframe tbody tr th {\n        vertical-align: top;\n    }\n\n    .dataframe thead th {\n        text-align: right;\n    }\n</style>\n<table border=\"1\" class=\"dataframe\">\n  <thead>\n    <tr style=\"text-align: right;\">\n      <th></th>\n      <th>item1</th>\n      <th>item2</th>\n      <th>item3</th>\n      <th>item4</th>\n      <th>item5</th>\n    </tr>\n  </thead>\n  <tbody>\n    <tr>\n      <th>item1</th>\n      <td>1.000000</td>\n      <td>0.738988</td>\n      <td>0.747667</td>\n      <td>0.936916</td>\n      <td>0.994100</td>\n    </tr>\n    <tr>\n      <th>item2</th>\n      <td>0.738988</td>\n      <td>1.000000</td>\n      <td>0.933564</td>\n      <td>0.813629</td>\n      <td>0.738851</td>\n    </tr>\n    <tr>\n      <th>item3</th>\n      <td>0.747667</td>\n      <td>0.933564</td>\n      <td>1.000000</td>\n      <td>0.709718</td>\n      <td>0.722610</td>\n    </tr>\n    <tr>\n      <th>item4</th>\n      <td>0.936916</td>\n      <td>0.813629</td>\n      <td>0.709718</td>\n      <td>1.000000</td>\n      <td>0.939558</td>\n    </tr>\n    <tr>\n      <th>item5</th>\n      <td>0.994100</td>\n      <td>0.738851</td>\n      <td>0.722610</td>\n      <td>0.939558</td>\n      <td>1.000000</td>\n    </tr>\n  </tbody>\n</table>\n</div>"
     },
     "execution_count": 2,
     "metadata": {},
     "output_type": "execute_result"
    }
   ],
   "source": [
    "# 余弦相似度\n",
    "from sklearn.metrics.pairwise import cosine_similarity\n",
    "cosine_sim = cosine_similarity(df.iloc[1:, 1:].T)\n",
    "cosine_sim = pd.DataFrame(cosine_sim, columns=df.columns[1:], index=df.columns[1:])\n",
    "cosine_sim"
   ],
   "metadata": {
    "collapsed": false,
    "pycharm": {
     "name": "#%%\n"
    }
   }
  },
  {
   "cell_type": "code",
   "execution_count": 3,
   "outputs": [
    {
     "data": {
      "text/plain": "          item1     item2     item3     item4     item5\nitem1  1.000000 -0.648886 -0.435286  0.473684  0.969458\nitem2 -0.648886  1.000000  0.670820 -0.324443 -0.478091\nitem3 -0.435286  0.670820  1.000000 -0.870572 -0.427618\nitem4  0.473684 -0.324443 -0.870572  1.000000  0.581675\nitem5  0.969458 -0.478091 -0.427618  0.581675  1.000000",
      "text/html": "<div>\n<style scoped>\n    .dataframe tbody tr th:only-of-type {\n        vertical-align: middle;\n    }\n\n    .dataframe tbody tr th {\n        vertical-align: top;\n    }\n\n    .dataframe thead th {\n        text-align: right;\n    }\n</style>\n<table border=\"1\" class=\"dataframe\">\n  <thead>\n    <tr style=\"text-align: right;\">\n      <th></th>\n      <th>item1</th>\n      <th>item2</th>\n      <th>item3</th>\n      <th>item4</th>\n      <th>item5</th>\n    </tr>\n  </thead>\n  <tbody>\n    <tr>\n      <th>item1</th>\n      <td>1.000000</td>\n      <td>-0.648886</td>\n      <td>-0.435286</td>\n      <td>0.473684</td>\n      <td>0.969458</td>\n    </tr>\n    <tr>\n      <th>item2</th>\n      <td>-0.648886</td>\n      <td>1.000000</td>\n      <td>0.670820</td>\n      <td>-0.324443</td>\n      <td>-0.478091</td>\n    </tr>\n    <tr>\n      <th>item3</th>\n      <td>-0.435286</td>\n      <td>0.670820</td>\n      <td>1.000000</td>\n      <td>-0.870572</td>\n      <td>-0.427618</td>\n    </tr>\n    <tr>\n      <th>item4</th>\n      <td>0.473684</td>\n      <td>-0.324443</td>\n      <td>-0.870572</td>\n      <td>1.000000</td>\n      <td>0.581675</td>\n    </tr>\n    <tr>\n      <th>item5</th>\n      <td>0.969458</td>\n      <td>-0.478091</td>\n      <td>-0.427618</td>\n      <td>0.581675</td>\n      <td>1.000000</td>\n    </tr>\n  </tbody>\n</table>\n</div>"
     },
     "execution_count": 3,
     "metadata": {},
     "output_type": "execute_result"
    }
   ],
   "source": [
    "# 皮尔逊相似系数\n",
    "pearson_sim = np.corrcoef(df.iloc[1:, 1:].T)\n",
    "pearson_sim = pd.DataFrame(pearson_sim, columns=df.columns[1:], index=df.columns[1:])\n",
    "pearson_sim"
   ],
   "metadata": {
    "collapsed": false,
    "pycharm": {
     "name": "#%%\n"
    }
   }
  },
  {
   "cell_type": "code",
   "execution_count": 4,
   "outputs": [],
   "source": [
    "# 发现最相关的是item1和item4\n",
    "item5_base = np.average(df['item5'].iloc[1:])\n",
    "weight_list = [pearson_sim.loc['item5', 'item1'], pearson_sim.loc[ 'item5', 'item4']]\n",
    "weight_list_sum = np.sum(weight_list)"
   ],
   "metadata": {
    "collapsed": false,
    "pycharm": {
     "name": "#%%\n"
    }
   }
  },
  {
   "cell_type": "code",
   "execution_count": 5,
   "outputs": [
    {
     "data": {
      "text/plain": "4.6"
     },
     "execution_count": 5,
     "metadata": {},
     "output_type": "execute_result"
    }
   ],
   "source": [
    "item1_score = df.iloc[0, 1]\n",
    "item4_score = df.iloc[0, 4]\n",
    "item1_avg = np.average(df.iloc[:, 1].values)\n",
    "item4_avg = np.average(df.iloc[:, 4].values)\n",
    "item1_centered = item1_score - item1_avg\n",
    "item4_centered = item4_score - item4_avg\n",
    "item5_pred_score = item5_base + (item1_centered * weight_list[0] + item4_centered * weight_list[1]) / weight_list_sum\n",
    "item5_pred_score"
   ],
   "metadata": {
    "collapsed": false,
    "pycharm": {
     "name": "#%%\n"
    }
   }
  },
  {
   "cell_type": "code",
   "execution_count": 5,
   "outputs": [],
   "source": [],
   "metadata": {
    "collapsed": false,
    "pycharm": {
     "name": "#%%\n"
    }
   }
  }
 ],
 "metadata": {
  "kernelspec": {
   "display_name": "Python 3",
   "language": "python",
   "name": "python3"
  },
  "language_info": {
   "codemirror_mode": {
    "name": "ipython",
    "version": 2
   },
   "file_extension": ".py",
   "mimetype": "text/x-python",
   "name": "python",
   "nbconvert_exporter": "python",
   "pygments_lexer": "ipython2",
   "version": "2.7.6"
  }
 },
 "nbformat": 4,
 "nbformat_minor": 0
}